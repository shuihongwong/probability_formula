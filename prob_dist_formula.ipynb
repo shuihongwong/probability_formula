{
 "cells": [
  {
   "cell_type": "code",
   "execution_count": 1,
   "metadata": {
    "collapsed": true,
    "pycharm": {
     "name": "#%%\n"
    }
   },
   "outputs": [],
   "source": [
    "import numpy as np\n",
    "import math as mt"
   ]
  },
  {
   "cell_type": "code",
   "execution_count": null,
   "outputs": [],
   "source": [
    "# print(r, a.bsm_call_price, Original_BSM_Call_Price, Original_Call_Option_Rho * (r-0.05), Original_BSM_Call_Price + Original_Call_Option_Rho * (r-.05))\n",
    "# diff = a.bsm_call_price - Original_BSM_Call_Price"
   ],
   "metadata": {
    "collapsed": false,
    "pycharm": {
     "name": "#%%\n"
    }
   }
  },
  {
   "cell_type": "code",
   "execution_count": null,
   "outputs": [],
   "source": [
    "class ProbDist:\n",
    "\n",
    "    def __init__(self, a=0, b=1, n=2):\n",
    "        self.uniform_function = 1/(b-a)\n",
    "        self.uniform_expectation = (b-a)/2\n",
    "        self.uniform_variance = 2**n/(n+1)\n",
    "\n",
    "    @staticmethod\n",
    "    def get_uniform_random(a, b, n):\n",
    "        return np.random.uniform(a, b, n)"
   ],
   "metadata": {
    "collapsed": false,
    "pycharm": {
     "name": "#%%\n"
    }
   }
  }
 ],
 "metadata": {
  "kernelspec": {
   "display_name": "Python 3",
   "language": "python",
   "name": "python3"
  },
  "language_info": {
   "codemirror_mode": {
    "name": "ipython",
    "version": 2
   },
   "file_extension": ".py",
   "mimetype": "text/x-python",
   "name": "python",
   "nbconvert_exporter": "python",
   "pygments_lexer": "ipython2",
   "version": "2.7.6"
  }
 },
 "nbformat": 4,
 "nbformat_minor": 0
}